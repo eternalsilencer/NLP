{
 "cells": [
  {
   "cell_type": "code",
   "execution_count": 8,
   "metadata": {},
   "outputs": [],
   "source": [
    "import random\n",
    "import matplotlib.pylab as plt\n",
    "import math"
   ]
  },
  {
   "cell_type": "code",
   "execution_count": 17,
   "metadata": {},
   "outputs": [],
   "source": [
    "latitudes = [random.randint(-100, 100) for _ in range(5)]\n",
    "longitude = [random.randint(-100, 100) for _ in range(5)]\n",
    "k_points = list(zip(latitudes,longitude))\n",
    "chosen_p = (-50, 10)\n"
   ]
  },
  {
   "cell_type": "code",
   "execution_count": 18,
   "metadata": {},
   "outputs": [
    {
     "data": {
      "text/plain": [
       "<matplotlib.collections.PathCollection at 0x12af4710>"
      ]
     },
     "execution_count": 18,
     "metadata": {},
     "output_type": "execute_result"
    },
    {
     "data": {
      "image/png": "[encoded data removed]",
      "text/plain": [
       "<matplotlib.figure.Figure at 0x12aa3320>"
      ]
     },
     "metadata": {},
     "output_type": "display_data"
    }
   ],
   "source": [
    "plt.scatter(latitudes, longitude)\n",
    "plt.scatter([chosen_p[0]], [chosen_p[1]], color='r')"
   ]
  },
  {
   "cell_type": "code",
   "execution_count": 19,
   "metadata": {},
   "outputs": [],
   "source": [
    "def search(chosen_p, k_points):\n",
    "    if len(k_points) == 0: return 0\n",
    "    now_point = chosen_p\n",
    "    next_point =  next_point = k_points.pop()\n",
    "    distance = math.sqrt((now_point[0] - next_point[0]) ** 2 + (now_point[1] - next_point[1]) ** 2)\n",
    "    now_point = next_point\n",
    "    print(distance)\n",
    "#     solustion[n] = (n - max_split, max_split)"
   ]
  },
  {
   "cell_type": "code",
   "execution_count": 20,
   "metadata": {},
   "outputs": [
    {
     "name": "stdout",
     "output_type": "stream",
     "text": [
      "83.19855767980596\n"
     ]
    }
   ],
   "source": [
    "k_points = list(zip(latitudes,longitude))\n",
    "search(chosen_p,k_points)"
   ]
  },
  {
   "cell_type": "code",
   "execution_count": 38,
   "metadata": {},
   "outputs": [],
   "source": [
    "\n",
    "chosen_p = (-50, 10)\n",
    "k_points = list(zip(latitudes,longitude)) + [chosen_p]\n",
    "point_dic = {}\n",
    "for start in k_points:\n",
    "    value = k_points.copy()\n",
    "    \n",
    "    value.remove(start)\n",
    "    point_dic[start] = value\n",
    "\n",
    "\n",
    "\n",
    "\n",
    "    \n",
    "    \n",
    "\n"
   ]
  },
  {
   "cell_type": "code",
   "execution_count": 51,
   "metadata": {},
   "outputs": [
    {
     "data": {
      "text/plain": [
       "{(-50, 10): [(18, 34), (-31, -21), (20, 66), (99, -30), (31, 29)],\n",
       " (-31, -21): [(18, 34), (20, 66), (99, -30), (31, 29), (-50, 10)],\n",
       " (18, 34): [(-31, -21), (20, 66), (99, -30), (31, 29), (-50, 10)],\n",
       " (20, 66): [(18, 34), (-31, -21), (99, -30), (31, 29), (-50, 10)],\n",
       " (31, 29): [(18, 34), (-31, -21), (20, 66), (99, -30), (-50, 10)],\n",
       " (99, -30): [(18, 34), (-31, -21), (20, 66), (31, 29), (-50, 10)]}"
      ]
     },
     "execution_count": 51,
     "metadata": {},
     "output_type": "execute_result"
    }
   ],
   "source": [
    "point_dic"
   ]
  },
  {
   "cell_type": "code",
   "execution_count": 55,
   "metadata": {},
   "outputs": [],
   "source": [
    "pathes_all = []\n",
    "def search(start, destination, connection_grpah):\n",
    "    pathes = [[start]]\n",
    "    \n",
    "    visitied = set()\n",
    "    \n",
    "    while pathes: # if we find existing pathes\n",
    "        path = pathes.pop(0)\n",
    "        froninter = path[-1]\n",
    "        \n",
    "        if froninter in visitied: continue\n",
    "            \n",
    "        successors = connection_grpah[froninter]\n",
    "        \n",
    "        for city in successors:\n",
    "            if city in path: continue  # eliminate loop\n",
    "                \n",
    "            new_path = path + [city]\n",
    "            \n",
    "            pathes.append(new_path)\n",
    "            pathes_all.append(new_path)\n",
    "#             if city == destination: return new_path\n",
    "        \n",
    "        visitied.add(froninter)\n",
    "        \n",
    "#         pathes = sort_candidate(pathes) # 我们可以加一个排序函数 对我们的搜索策略进行控制"
   ]
  },
  {
   "cell_type": "code",
   "execution_count": 56,
   "metadata": {},
   "outputs": [],
   "source": [
    "search(chosen_p, (60,7), point_dic)"
   ]
  },
  {
   "cell_type": "code",
   "execution_count": 59,
   "metadata": {},
   "outputs": [
    {
     "data": {
      "text/plain": [
       "[[(-50, 10), (18, 34)],\n",
       " [(-50, 10), (-31, -21)],\n",
       " [(-50, 10), (20, 66)],\n",
       " [(-50, 10), (99, -30)],\n",
       " [(-50, 10), (31, 29)],\n",
       " [(-50, 10), (18, 34), (-31, -21)],\n",
       " [(-50, 10), (18, 34), (20, 66)],\n",
       " [(-50, 10), (18, 34), (99, -30)],\n",
       " [(-50, 10), (18, 34), (31, 29)],\n",
       " [(-50, 10), (-31, -21), (18, 34)],\n",
       " [(-50, 10), (-31, -21), (20, 66)],\n",
       " [(-50, 10), (-31, -21), (99, -30)],\n",
       " [(-50, 10), (-31, -21), (31, 29)],\n",
       " [(-50, 10), (20, 66), (18, 34)],\n",
       " [(-50, 10), (20, 66), (-31, -21)],\n",
       " [(-50, 10), (20, 66), (99, -30)],\n",
       " [(-50, 10), (20, 66), (31, 29)],\n",
       " [(-50, 10), (99, -30), (18, 34)],\n",
       " [(-50, 10), (99, -30), (-31, -21)],\n",
       " [(-50, 10), (99, -30), (20, 66)],\n",
       " [(-50, 10), (99, -30), (31, 29)],\n",
       " [(-50, 10), (31, 29), (18, 34)],\n",
       " [(-50, 10), (31, 29), (-31, -21)],\n",
       " [(-50, 10), (31, 29), (20, 66)],\n",
       " [(-50, 10), (31, 29), (99, -30)]]"
      ]
     },
     "execution_count": 59,
     "metadata": {},
     "output_type": "execute_result"
    }
   ],
   "source": [
    "pathes_all"
   ]
  },
  {
   "cell_type": "code",
   "execution_count": null,
   "metadata": {},
   "outputs": [],
   "source": [
    "visitied"
   ]
  }
 ],
 "metadata": {
  "kernelspec": {
   "display_name": "Python 3",
   "language": "python",
   "name": "python3"
  },
  "language_info": {
   "codemirror_mode": {
    "name": "ipython",
    "version": 3
   },
   "file_extension": ".py",
   "mimetype": "text/x-python",
   "name": "python",
   "nbconvert_exporter": "python",
   "pygments_lexer": "ipython3",
   "version": "3.6.4"
  }
 },
 "nbformat": 4,
 "nbformat_minor": 2
}
