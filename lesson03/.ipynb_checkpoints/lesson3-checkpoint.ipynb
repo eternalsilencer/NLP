{
 "cells": [
  {
   "cell_type": "code",
   "execution_count": 2,
   "metadata": {},
   "outputs": [],
   "source": [
    "from sklearn.datasets import load_boston\n",
    "import matplotlib.pyplot as plt\n",
    "%matplotlib inline\n",
    "import random"
   ]
  },
  {
   "cell_type": "code",
   "execution_count": 17,
   "metadata": {},
   "outputs": [],
   "source": [
    "def price(x, k, b):\n",
    "    return k * x + b\n",
    "\n",
    "def loss(y, y_hat):\n",
    "    return sum(abs(y_i - y_hat_i) for y_i, y_hat_i in zip(list(y), list(y_hat)))/len(y)\n",
    "\n",
    "def partial_k(x):\n",
    "    return sum(abs(-1 / len(x) * x))\n",
    "\n",
    "def partial_b(x):\n",
    "    return 1 / len(x)\n",
    "    "
   ]
  },
  {
   "cell_type": "code",
   "execution_count": 19,
   "metadata": {},
   "outputs": [
    {
     "data": {
      "text/plain": [
       "83.24680798848853"
      ]
     },
     "execution_count": 19,
     "metadata": {},
     "output_type": "execute_result"
    }
   ],
   "source": [
    "yy= 11*x -49\n",
    "loss(yy,y_hat)"
   ]
  },
  {
   "cell_type": "code",
   "execution_count": 23,
   "metadata": {},
   "outputs": [
    {
     "data": {
      "text/plain": [
       "0.001976284584980237"
      ]
     },
     "execution_count": 23,
     "metadata": {},
     "output_type": "execute_result"
    }
   ],
   "source": [
    "partial_k(x)\n",
    "partial_b(x)"
   ]
  },
  {
   "cell_type": "code",
   "execution_count": 136,
   "metadata": {
    "scrolled": false
   },
   "outputs": [
    {
     "name": "stdout",
     "output_type": "stream",
     "text": [
      "When time is : 0, get best_k: 105.5908327421777 best_b: 200, and the loss is: 837.8286106429897\n",
      "When time is : 0, get best_k: 16.905138456463842 best_b: -89.79591836734677, and the loss is: 7.802516489562599\n"
     ]
    },
    {
     "data": {
      "text/plain": [
       "<matplotlib.collections.PathCollection at 0x10d7c5f8>"
      ]
     },
     "execution_count": 136,
     "metadata": {},
     "output_type": "execute_result"
    },
    {
     "data": {
      "image/png": "[encoded data removed]",
      "text/plain": [
       "<Figure size 432x288 with 1 Axes>"
      ]
     },
     "metadata": {
      "needs_background": "light"
     },
     "output_type": "display_data"
    }
   ],
   "source": [
    "data = load_boston()\n",
    "x, y =data['data'][:, 5], data['target']\n",
    "min_loss = float('inf')\n",
    "current_k = random.random() * 200 - 10\n",
    "current_b = 200\n",
    "learning_rate = 1e-01\n",
    "update_time = 0\n",
    "trying_times = 20000\n",
    "\n",
    "\n",
    "min_loss = float('inf')\n",
    "for i in range(trying_times):\n",
    "    y_hat = [price(feature , current_k, current_b) for feature in x_copy]\n",
    "    current_loss = loss(y_copy, y_hat)\n",
    "    if current_loss < min_loss:\n",
    "        min_loss = current_loss\n",
    "        if i % 200 == 0 :\n",
    "            print('When time is : {}, get best_k: {} best_b: {}, and the loss is: {}'.format(i, current_k, current_b, min_loss))\n",
    "    else:break\n",
    "    k_gradient = partial_k(x_copy)\n",
    "    b_gradient = partial_b(x_copy)\n",
    "    if current_k > 0 :\n",
    "        current_k = current_k + (-1 * k_gradient) * learning_rate\n",
    "    else:\n",
    "        current_k = current_k + (1 * k_gradient) * learning_rate\n",
    "    current_b = current_b + (-1 * b_gradient) * 1000   \n",
    "    \n",
    "min_loss = float('inf')\n",
    "for i in range(trying_times):\n",
    "    y_hat = [price(feature , current_k, current_b) for feature in x_copy]\n",
    "    current_loss = loss(y_copy, y_hat)\n",
    "    if current_loss < min_loss:\n",
    "        min_loss = current_loss\n",
    "        if i % 1 == 0 :\n",
    "            print('When time is : {}, get best_k: {} best_b: {}, and the loss is: {}'.format(i, current_k, current_b, min_loss))\n",
    "    else: break\n",
    "    k_gradient = partial_k(x_copy)\n",
    "    b_gradient = partial_b(x_copy)\n",
    "    if current_k > 0 :\n",
    "        current_k = current_k + (-1 * k_gradient) * learning_rate\n",
    "    else:\n",
    "        current_k = current_k + (1 * k_gradient) * learning_rate\n",
    "#     current_b = current_b + (-1 * b_gradient) * learning_rate\n",
    "\n",
    "\n",
    "plt.scatter(x, y)\n",
    "plt.scatter(x_copy, y_hat)"
   ]
  },
  {
   "cell_type": "code",
   "execution_count": 83,
   "metadata": {},
   "outputs": [],
   "source": [
    "import numpy as np\n",
    "import pandas as pd\n",
    "\n",
    "def drop_noisy(df):\n",
    "    df_copy = df.copy()\n",
    "    df_describe = df_copy.describe()\n",
    "    for column in df.columns:\n",
    "        mean = df_describe.loc['mean',column]\n",
    "        std = df_describe.loc['std',column]\n",
    "        minvalue = mean - 1*std\n",
    "        maxvalue = mean + 1*std\n",
    "        df_copy = df_copy[df_copy[column] >= minvalue]\n",
    "        df_copy = df_copy[df_copy[column] <= maxvalue]\n",
    "    return df_copy\n"
   ]
  },
  {
   "cell_type": "code",
   "execution_count": 88,
   "metadata": {},
   "outputs": [
    {
     "name": "stdout",
     "output_type": "stream",
     "text": [
      "9.188011545278203 22.532806324110677 -5 50\n"
     ]
    },
    {
     "data": {
      "text/plain": [
       "<matplotlib.collections.PathCollection at 0xdb6c860>"
      ]
     },
     "execution_count": 88,
     "metadata": {},
     "output_type": "execute_result"
    },
    {
     "data": {
      "image/png": "[encoded data removed]",
      "text/plain": [
       "<Figure size 432x288 with 1 Axes>"
      ]
     },
     "metadata": {
      "needs_background": "light"
     },
     "output_type": "display_data"
    }
   ],
   "source": [
    "y_copy = y.copy()\n",
    "std = np.std(y_copy)\n",
    "mean = np.mean(y_copy)\n",
    "minvalue = int(mean - 3*std)\n",
    "maxvalue = int(mean + 3*std)\n",
    "print(std,mean,minvalue,maxvalue)\n",
    "y_copy = y_copy[y<maxvalue]\n",
    "x_copy = x.copy()\n",
    "x_copy = x_copy[y<maxvalue]\n",
    "plt.scatter(x_copy, y_copy)"
   ]
  },
  {
   "cell_type": "code",
   "execution_count": null,
   "metadata": {},
   "outputs": [],
   "source": []
  }
 ],
 "metadata": {
  "kernelspec": {
   "display_name": "Python 3",
   "language": "python",
   "name": "python3"
  },
  "language_info": {
   "codemirror_mode": {
    "name": "ipython",
    "version": 3
   },
   "file_extension": ".py",
   "mimetype": "text/x-python",
   "name": "python",
   "nbconvert_exporter": "python",
   "pygments_lexer": "ipython3",
   "version": "3.7.3"
  }
 },
 "nbformat": 4,
 "nbformat_minor": 2
}
