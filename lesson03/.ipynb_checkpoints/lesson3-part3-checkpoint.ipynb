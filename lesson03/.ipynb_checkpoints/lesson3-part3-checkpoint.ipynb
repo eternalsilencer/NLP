{
 "cells": [
  {
   "cell_type": "code",
   "execution_count": 1,
   "metadata": {},
   "outputs": [
    {
     "data": {
      "text/plain": [
       "[11, 11, 6, 2]"
      ]
     },
     "execution_count": 1,
     "metadata": {},
     "output_type": "execute_result"
    }
   ],
   "source": [
    "from collections import defaultdict\n",
    "from functools import wraps, lru_cache\n",
    "\n",
    "fun_call_time = defaultdict(int)\n",
    "\n",
    "def get_call_time(f):\n",
    "    @wraps(f)  # 保留原有函数名称\n",
    "    def wrap(n):\n",
    "        fun_call_time[f.__name__, n] += 1  # 函数出现的次数加一\n",
    "        return f(n)\n",
    "    return wrap\n",
    "\n",
    "def memo(f):\n",
    "    already_computed = {}  # 记录已经计算过的数据\n",
    "    @wraps(f)\n",
    "    def warp(n):\n",
    "        if n in already_computed:\n",
    "            return already_computed[n]\n",
    "        else:\n",
    "            already_computed[n] = f(n)\n",
    "            return already_computed[n]\n",
    "    return warp\n",
    "\n",
    "\n",
    "solustion = {}\n",
    "@memo\n",
    "@get_call_time \n",
    "def r(n):\n",
    "    max_price, max_split =  max(\n",
    "        [(price[n], 0)] + [(r(i) + r(n-i), i) for i in range(1, n)], key=lambda x: x[0]\n",
    "    )\n",
    "    solustion[n] = (n - max_split, max_split)\n",
    "    return max_price\n",
    "\n",
    "def parse_solution(n):\n",
    "    left, right = solustion[n]\n",
    "    if right == 0:\n",
    "        return [left]\n",
    "    return parse_solution(left) + parse_solution(right)\n",
    "\n",
    "original_price = [1, 5, 8, 9, 10, 17, 17, 20, 24, 30, 35]  # 定义价格\n",
    "price = defaultdict(int)\n",
    "for i, p in enumerate(original_price): \n",
    "    price[i + 1] = p\n",
    "\n",
    "r(30)\n",
    "parse_solution(30)\n"
   ]
  },
  {
   "cell_type": "code",
   "execution_count": 2,
   "metadata": {},
   "outputs": [],
   "source": [
    "solution = {}\n",
    "@lru_cache(maxsize=2**10)\n",
    "def edit_distance(string1, string2):\n",
    "    \n",
    "    if len(string1) == 0: return len(string2)\n",
    "    if len(string2) == 0: return len(string1)\n",
    "    \n",
    "    tail_s1 = string1[-1]\n",
    "    tail_s2 = string2[-1]\n",
    "    candidates = [\n",
    "        (edit_distance(string1[:-1], string2) + 1, 'DEL {}'.format(tail_s1)),  # string 1 delete tail\n",
    "        (edit_distance(string1, string2[:-1]) + 1, 'ADD {}'.format(tail_s2)),  # string 1 add tail of string2\n",
    "    ]\n",
    "    if tail_s1 == tail_s2:\n",
    "        both_forward = (edit_distance(string1[:-1], string2[:-1]) + 0, '')\n",
    "    else:\n",
    "        both_forward = (edit_distance(string1[:-1], string2[:-1]) + 1, 'SUB {} => {}'.format(tail_s1, tail_s2))\n",
    "\n",
    "    candidates.append(both_forward)\n",
    "    \n",
    "    min_distance, operation = min(candidates, key=lambda x: x[0])\n",
    "    \n",
    "    solution[(string1, string2)] = operation \n",
    "    return min_distance\n",
    "\n",
    "def edit_parse_solution(string1, string2):\n",
    "    result = {}\n",
    "    for i in range(len(string1)):\n",
    "        result[(string1,string2)] = solution[(string1,string2)]\n",
    "        string1, string2 = string1[0:-1], string2[0:-1]\n",
    "    return sorted(result.items(),key=lambda x:x[0],reverse=False)"
   ]
  },
  {
   "cell_type": "code",
   "execution_count": 3,
   "metadata": {},
   "outputs": [
    {
     "name": "stdout",
     "output_type": "stream",
     "text": [
      "2\n"
     ]
    },
    {
     "data": {
      "text/plain": [
       "[(('a', 'a'), ''),\n",
       " (('ab', 'ab'), ''),\n",
       " (('abd', 'abc'), 'SUB d => c'),\n",
       " (('abdd', 'abcd'), ''),\n",
       " (('abddg', 'abcde'), 'SUB g => e'),\n",
       " (('abddgf', 'abcdef'), '')]"
      ]
     },
     "execution_count": 3,
     "metadata": {},
     "output_type": "execute_result"
    }
   ],
   "source": [
    "result = edit_distance('abddgf', 'abcdef')\n",
    "print(result)\n",
    "edit_parse_solution('abddgf','abcdef')"
   ]
  },
  {
   "cell_type": "code",
   "execution_count": null,
   "metadata": {},
   "outputs": [],
   "source": []
  }
 ],
 "metadata": {
  "kernelspec": {
   "display_name": "Python 3",
   "language": "python",
   "name": "python3"
  },
  "language_info": {
   "codemirror_mode": {
    "name": "ipython",
    "version": 3
   },
   "file_extension": ".py",
   "mimetype": "text/x-python",
   "name": "python",
   "nbconvert_exporter": "python",
   "pygments_lexer": "ipython3",
   "version": "3.7.3"
  }
 },
 "nbformat": 4,
 "nbformat_minor": 2
}
