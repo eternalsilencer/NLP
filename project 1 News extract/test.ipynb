{
 "cells": [
  {
   "cell_type": "code",
   "execution_count": 72,
   "metadata": {},
   "outputs": [],
   "source": [
    "from gensim.models import Word2Vec\n",
    "import pandas as pd\n",
    "from collections import defaultdict\n",
    "from pyltp import Postagger, Segmentor, Postagger, Parser\n",
    "from collections import defaultdict\n",
    "import os\n"
   ]
  },
  {
   "cell_type": "code",
   "execution_count": 6,
   "metadata": {},
   "outputs": [],
   "source": [
    "test_news = \"\"\"今年是“一带一路”倡议提出五周年。五年来，中国已经同140多个国家和国际组织签署共建“一带一路”合作协议，一大批重大合作项目已经落地生根。在今年的外访和参加国际会议期间，习近平主席几乎每到一个国家都会提到“一带一路”，亲自推动“一带一路”倡议走深走实。\n",
    "\n",
    "在阿联酋，习近平强调中阿是共建“一带一路”的天然合作伙伴，中方视阿联酋为“一带一路”建设重要支点国家。在塞内加尔，习近平见证了中塞共建“一带一路”等多项双边合作文件的签署，塞内加尔也成为西非首个签署“一带一路”合作文件的国家。在卢旺达，习近平表示，中方欢迎卢方积极参与共建“一带一路”国际合作，鼓励中国企业赴卢旺达投资兴业，助力卢旺达工业化和现代化进程。在南非，习近平强调，中南双方要加强在“一带一路”和中非合作论坛框架内合作。在毛里求斯，习近平提议，发挥毛里求斯参与共建“一带一路”的独特区位优势，加强沟通对接，深化广泛领域合作。\n",
    "\n",
    "习近平今年外访收官，向国际社会传达了什么讯息？（来源：CCTV-新闻）\n",
    "△独家V观丨盛装歌舞！习近平出席巴新独立大道移交启用仪式\n",
    "巴布亚新几内亚是太平洋岛国地区首个同中方签署共建“一带一路”合作协议的国家。在巴新，习近平表示，双方要在“一带一路”框架内加强发展战略对接，争取尽早就启动双边自由贸易协定谈判达成一致。在文莱，习近平强调，中方视文莱为建设21世纪海上丝绸之路重要合作伙伴，愿将“一带一路”倡议同文莱经济多元化战略“2035宏愿”相对接。在菲律宾，习近平见证了《中华人民共和国政府与菲律宾共和国政府关于共同推进“一带一路”建设的谅解备忘录》等多项双边合作文件的签署。\n",
    "\n",
    "在西班牙，习近平表示，中西开展“一带一路”合作具有历史、地理等多重优势，要加强“一带一路”倡议同西班牙亚洲战略、地中海走廊建设等对接。在阿根廷，习近平强调，双方要在共建“一带一路”框架内加强沟通和合作，对接两国发展规划。在巴拿马，习近平指出，巴方“2030年国家物流战略”同中方共建“一带一路”倡议高度契合，双方要加强战略对接。在葡萄牙，习近平强调，双方要以签署中葡政府间共建“一带一路”合作谅解备忘录为契机，全面加强“一带一路”框架内合作，促进互联互通。\n",
    "\n",
    "习近平今年外访收官，向国际社会传达了什么讯息？习近平在APEC工商领导人峰会上发表主旨演讲\n",
    "\n",
    "在今年的APEC工商领导人峰会上，习近平发表主旨演讲时还郑重表示，共建“一带一路”是开放的合作平台，秉持的是共商共建共享的基本原则，没有地缘政治目的，不针对谁也不排除谁，不会关起门来搞小圈子，不是有人说的这样那样的所谓“陷阱”，而是中国同世界共享机遇、共谋发展的阳光大道。中国将于明年4月在北京举办第二届“一带一路”国际合作高峰论坛。\n",
    "\n",
    "四次踏出国门，每到一地，习近平都在积极扩大“一带一路”朋友圈，寻找“一带一路”倡议和各国发展战略之间的契合点，并亲自发声排除外界对“一带一路”倡议的各种杂音。可以说，共建“一带一路”是习近平2018年外访行程的一大中心主题。\"\"\""
   ]
  },
  {
   "cell_type": "code",
   "execution_count": 7,
   "metadata": {},
   "outputs": [],
   "source": [
    "LTP_DATA_DIR='E:/NLP_excrise/ltp_data_v3.4.0'  # ltp模型目录的路径"
   ]
  },
  {
   "cell_type": "code",
   "execution_count": 12,
   "metadata": {},
   "outputs": [
    {
     "name": "stdout",
     "output_type": "stream",
     "text": [
      "今年\t是\t“\t一带\t一路\t”\t倡议\t提出\t五\t周年\t。\t五\t年\t来\t，\t中国\t已经\t同\t140\t多\t个\t国家\t和\t国际\t组织\t签署\t共建\t“\t一带\t一路\t”\t合作\t协议\t，\t一\t大\t批\t重大\t合作\t项目\t已经\t落地\t生根\t。\t在\t今年\t的\t外访\t和\t参加\t国际\t会议\t期间\t，\t习近平\t主席\t几乎\t每\t到\t一个\t国家\t都\t会\t提到\t“\t一带\t一路\t”\t，\t亲自\t推动\t“\t一带\t一路\t”\t倡议\t走\t深\t走\t实\t。\t\n",
      "\n",
      "\t在\t阿联酋\t，\t习近平\t强调\t中\t阿\t是\t共建\t“\t一带\t一路\t”\t的\t天然\t合作\t伙伴\t，\t中方\t视\t阿联酋\t为\t“\t一带\t一路\t”\t建设\t重要\t支点\t国家\t。\t在\t塞内加尔\t，\t习近平\t见证\t了\t中\t塞\t共建\t“\t一带\t一路\t”\t等\t多\t项\t双边\t合作\t文件\t的\t签署\t，\t塞内加尔\t也\t成为\t西非\t首\t个\t签署\t“\t一带\t一路\t”\t合作\t文件\t的\t国家\t。\t在\t卢旺达\t，\t习近平\t表示\t，\t中方\t欢迎\t卢方\t积极\t参与\t共建\t“\t一带\t一路\t”\t国际\t合作\t，\t鼓励\t中国\t企业\t赴\t卢旺达\t投资\t兴业\t，\t助力\t卢旺达\t工业化\t和\t现代化\t进程\t。\t在\t南非\t，\t习近平\t强调\t，\t中\t南\t双方\t要\t加强\t在\t“\t一带\t一路\t”\t和\t中\t非\t合作\t论坛\t框架\t内\t合作\t。\t在\t毛里求斯\t，\t习近平\t提议\t，\t发挥\t毛里求斯\t参与\t共建\t“\t一带\t一路\t”\t的\t独特\t区位\t优势\t，\t加强\t沟通\t对接\t，\t深化\t广泛\t领域\t合作\t。\t\n",
      "\n",
      "\t习\t近平\t今年\t外访\t收官\t，\t向\t国际\t社会\t传达\t了\t什么\t讯息\t？\t（\t来源\t：\tCCTV-\t新闻\t）\t\n",
      "\t△\t独家\tV\t观\t丨\t盛装\t歌舞\t！\t习近平\t出席\t巴\t新\t独立\t大道\t移交\t启用\t仪式\t\n",
      "巴布亚新几内亚\t是\t太平洋\t岛国\t地区\t首\t个\t同\t中方\t签署\t共建\t“\t一带\t一路\t”\t合作\t协议\t的\t国家\t。\t在\t巴新\t，\t习近平\t表示\t，\t双方\t要\t在\t“\t一带\t一路\t”\t框架\t内\t加强\t发展\t战略\t对接\t，\t争取\t尽早\t就\t启动\t双边\t自由\t贸易\t协定\t谈判\t达成\t一致\t。\t在\t文莱\t，\t习近平\t强调\t，\t中方\t视文莱\t为\t建设\t21\t世纪\t海上\t丝绸之路\t重要\t合作\t伙伴\t，\t愿\t将\t“\t一带\t一路\t”\t倡议\t同\t文莱\t经济\t多元化\t战略\t“\t2035\t宏愿\t”\t相\t对接\t。\t在\t菲律宾\t，\t习近平\t见证\t了\t《\t中华人民共和国\t政府\t与\t菲律宾共和国\t政府\t关于\t共同\t推进\t“\t一带\t一路\t”\t建设\t的\t谅解\t备忘录\t》\t等\t多\t项\t双边\t合作\t文件\t的\t签署\t。\t\n",
      "\n",
      "\t在\t西班牙\t，\t习近平\t表示\t，\t中西\t开展\t“\t一带\t一路\t”\t合作\t具有\t历史\t、\t地理\t等\t多重\t优势\t，\t要\t加强\t“\t一带\t一路\t”\t倡议\t同\t西班牙\t亚洲\t战略\t、\t地中海\t走廊\t建设\t等\t对接\t。\t在\t阿根廷\t，\t习近平\t强调\t，\t双方\t要\t在\t共建\t“\t一带\t一路\t”\t框架\t内\t加强\t沟通\t和\t合作\t，\t对接\t两\t国\t发展\t规划\t。\t在\t巴拿马\t，\t习近平\t指出\t，\t巴方\t“\t2030年\t国家\t物流\t战略\t”\t同\t中方\t共建\t“\t一带\t一路\t”\t倡议\t高度\t契合\t，\t双方\t要\t加强\t战略\t对接\t。\t在\t葡萄牙\t，\t习近平\t强调\t，\t双方\t要\t以\t签署\t中\t葡\t政府\t间\t共建\t“\t一带\t一路\t”\t合作\t谅解\t备忘录\t为\t契机\t，\t全面\t加强\t“\t一带\t一路\t”\t框架\t内\t合作\t，\t促进\t互联\t互通\t。\n",
      "\n",
      "\t习\t近平\t今年\t外访\t收官\t，\t向\t国际\t社会\t传达\t了\t什么\t讯息\t？\t习\t近平\t在\tAPEC\t工商\t领导人\t峰会\t上\t发表\t主旨\t演讲\t\n",
      "\n",
      "\t在\t今年\t的\tAPEC\t工商\t领导人\t峰会\t上\t，\t习近平\t发表\t主旨\t演讲\t时\t还\t郑重\t表示\t，\t共建\t“\t一带\t一路\t”\t是\t开放\t的\t合作\t平台\t，\t秉持\t的\t是\t共\t商\t共建\t共享\t的\t基本\t原则\t，\t没有\t地缘\t政治\t目的\t，\t不\t针对\t谁\t也\t不\t排除\t谁\t，\t不\t会\t关\t起\t门\t来\t搞\t小圈子\t，\t不\t是\t有\t人\t说\t的\t这样\t那样\t的\t所谓\t“\t陷阱\t”\t，\t而是\t中国\t同\t世界\t共享\t机遇\t、\t共谋\t发展\t的\t阳光\t大道\t。\t中国\t将\t于\t明年\t4月\t在\t北京\t举办\t第二\t届\t“\t一带\t一路\t”\t国际\t合作\t高峰\t论坛\t。\n",
      "\n",
      "\t四\t次\t踏出\t国门\t，\t每\t到\t一\t地\t，\t习近平\t都\t在\t积极\t扩大\t“\t一带\t一路\t”\t朋友圈\t，\t寻找\t“\t一带\t一路\t”\t倡议\t和\t各国\t发展\t战略\t之间\t的\t契合点\t，\t并\t亲自\t发声\t排除\t外界\t对\t“\t一带\t一路\t”\t倡议\t的\t各种\t杂音\t。\t可以\t说\t，\t共建\t“\t一带\t一路\t”\t是\t习\t近平\t2018年\t外访\t行程\t的\t一\t大\t中心\t主题\t。\n"
     ]
    }
   ],
   "source": [
    "cws_model_path = os.path.join(LTP_DATA_DIR, 'cws.model')  # 分词模型路径，模型名称为`cws.model`\n",
    "segmentor = Segmentor()  # 初始化实例\n",
    "segmentor.load(cws_model_path) # 加载模型\n",
    "words = segmentor.segment(test_news)  # 分词\n",
    "print ('\\t'.join(words))\n",
    "segmentor.release()  # 释放模型"
   ]
  },
  {
   "cell_type": "code",
   "execution_count": 20,
   "metadata": {},
   "outputs": [],
   "source": [
    "pos_model_path = os.path.join(LTP_DATA_DIR, 'pos.model')  # 词性标注模型路径，模型名称为`pos.model`\n",
    "\n",
    "from pyltp import Postagger\n",
    "postagger = Postagger() # 初始化实例\n",
    "postagger.load(pos_model_path)  # 加载模型\n",
    "\n",
    "postags = postagger.postag(words)  # 词性标注\n",
    "\n",
    "postagger.release()  # 释放模型"
   ]
  },
  {
   "cell_type": "code",
   "execution_count": 64,
   "metadata": {},
   "outputs": [
    {
     "name": "stdout",
     "output_type": "stream",
     "text": [
      "O\tO\tO\tO\tO\tO\tO\tO\tO\tO\tO\tO\tO\tO\tO\tS-Ns\tO\tO\tO\tO\tO\tO\tO\tO\tO\tO\tO\tO\tO\tO\tO\tO\tO\tO\tO\tO\tO\tO\tO\tO\tO\tO\tO\tO\tO\tO\tO\tO\tO\tO\tO\tO\tO\tO\tS-Nh\tO\tO\tO\tO\tO\tO\tO\tO\tO\tO\tO\tO\tO\tO\tO\tO\tO\tO\tO\tO\tO\tO\tO\tO\tO\tO\tO\tO\tS-Ns\tO\tS-Nh\tO\tS-Ns\tO\tO\tO\tO\tO\tO\tO\tO\tO\tO\tO\tO\tO\tO\tS-Ns\tO\tO\tO\tO\tO\tO\tO\tO\tO\tO\tO\tS-Ns\tO\tS-Nh\tO\tO\tS-Ns\tO\tO\tO\tO\tO\tO\tO\tO\tO\tO\tO\tO\tO\tO\tO\tS-Ns\tO\tO\tS-Ns\tO\tO\tO\tO\tO\tO\tO\tO\tO\tO\tO\tO\tO\tS-Ns\tO\tS-Nh\tO\tO\tO\tO\tO\tO\tO\tO\tO\tO\tO\tO\tO\tO\tO\tO\tS-Ns\tO\tO\tS-Ns\tO\tO\tO\tO\tS-Ns\tO\tO\tO\tO\tO\tO\tS-Ns\tO\tS-Nh\tO\tO\tS-Ns\tS-Ns\tO\tO\tO\tO\tO\tO\tO\tO\tO\tS-Ns\tO\tO\tO\tO\tO\tO\tO\tO\tS-Ns\tO\tS-Nh\tO\tO\tO\tS-Ns\tO\tO\tO\tO\tO\tO\tO\tO\tO\tO\tO\tO\tO\tO\tO\tO\tO\tO\tO\tO\tO\tB-Nh\tE-Nh\tO\tO\tO\tO\tO\tO\tO\tO\tO\tO\tO\tO\tO\tO\tO\tO\tO\tO\tO\tO\tO\tO\tO\tO\tO\tO\tO\tS-Nh\tO\tO\tO\tO\tO\tO\tO\tO\tS-Ns\tO\tS-Ns\tO\tO\tO\tO\tO\tO\tO\tO\tO\tO\tO\tO\tO\tO\tO\tO\tO\tO\tO\tO\tS-Nh\tO\tO\tO\tO\tO\tO\tO\tO\tO\tO\tO\tO\tO\tO\tO\tO\tO\tO\tO\tO\tO\tO\tO\tO\tO\tO\tO\tO\tO\tS-Ns\tO\tS-Nh\tO\tO\tO\tO\tO\tO\tO\tO\tO\tO\tO\tO\tO\tO\tO\tO\tO\tO\tO\tO\tO\tO\tS-Ns\tO\tO\tO\tO\tO\tO\tO\tO\tO\tO\tO\tS-Ns\tO\tS-Nh\tO\tO\tO\tB-Ni\tE-Ni\tO\tB-Ni\tE-Ni\tO\tO\tO\tO\tO\tO\tO\tO\tO\tO\tO\tO\tO\tO\tO\tO\tO\tO\tO\tO\tO\tO\tO\tS-Ns\tO\tS-Nh\tO\tO\tO\tO\tO\tO\tO\tO\tO\tO\tO\tO\tO\tO\tO\tO\tO\tO\tO\tO\tO\tO\tO\tO\tO\tB-Ni\tI-Ni\tE-Ni\tO\tS-Ns\tO\tO\tO\tO\tO\tO\tS-Ns\tO\tS-Nh\tO\tO\tO\tO\tO\tO\tO\tO\tO\tO\tO\tO\tO\tO\tO\tO\tO\tO\tO\tO\tO\tO\tO\tO\tS-Ns\tO\tS-Nh\tO\tO\tO\tO\tO\tO\tO\tO\tO\tO\tO\tO\tO\tO\tO\tO\tO\tO\tO\tO\tO\tO\tO\tO\tO\tO\tO\tS-Ns\tO\tS-Nh\tO\tO\tO\tO\tO\tO\tS-Ns\tO\tO\tO\tO\tO\tO\tO\tO\tO\tO\tO\tO\tO\tO\tO\tO\tO\tO\tO\tO\tO\tO\tO\tO\tO\tO\tO\tO\tB-Nh\tE-Nh\tO\tO\tO\tO\tO\tO\tO\tO\tO\tO\tO\tO\tO\tO\tO\tO\tO\tO\tO\tO\tO\tO\tO\tO\tO\tO\tO\tO\tO\tO\tO\tO\tO\tS-Nh\tO\tO\tO\tO\tO\tO\tO\tO\tO\tO\tO\tO\tO\tO\tO\tO\tO\tO\tO\tO\tO\tO\tO\tO\tO\tO\tO\tO\tO\tO\tO\tO\tO\tO\tO\tO\tO\tO\tO\tO\tO\tO\tO\tO\tO\tO\tO\tO\tO\tO\tO\tO\tO\tO\tO\tO\tO\tO\tO\tO\tO\tO\tO\tO\tO\tO\tO\tS-Ns\tO\tO\tO\tO\tO\tO\tO\tO\tO\tO\tO\tS-Ns\tO\tO\tO\tO\tO\tS-Ns\tO\tO\tO\tO\tO\tO\tO\tO\tO\tO\tO\tO\tO\tO\tO\tO\tO\tO\tO\tO\tO\tO\tS-Nh\tO\tO\tO\tO\tO\tO\tO\tO\tO\tO\tO\tO\tO\tO\tO\tO\tO\tO\tO\tO\tO\tO\tO\tO\tO\tO\tO\tO\tO\tO\tO\tO\tO\tO\tO\tO\tO\tO\tO\tO\tO\tO\tO\tO\tO\tO\tO\tO\tO\tO\tO\tO\tO\tO\tO\tO\tO\tO\tO\n"
     ]
    }
   ],
   "source": [
    "ner_model_path = os.path.join(LTP_DATA_DIR, 'ner.model')  # 命名实体识别模型路径，模型名称为`pos.model`\n",
    "\n",
    "from pyltp import NamedEntityRecognizer\n",
    "recognizer = NamedEntityRecognizer() # 初始化实例\n",
    "recognizer.load(ner_model_path)  # 加载模型\n",
    "netags = recognizer.recognize(words, postags)  # 命名实体识别\n",
    "print ('\\t'.join(netags))\n",
    "recognizer.release()  # 释放模型"
   ]
  },
  {
   "cell_type": "code",
   "execution_count": 68,
   "metadata": {},
   "outputs": [
    {
     "data": {
      "text/plain": [
       "'S-Ns'"
      ]
     },
     "execution_count": 68,
     "metadata": {},
     "output_type": "execute_result"
    }
   ],
   "source": []
  },
  {
   "cell_type": "code",
   "execution_count": 15,
   "metadata": {},
   "outputs": [
    {
     "name": "stdout",
     "output_type": "stream",
     "text": [
      "2:SBV\t0:HED\t5:WP\t5:ATT\t8:ADV\t5:WP\t8:SBV\t2:VOB\t10:ATT\t8:VOB\t2:WP\t13:ATT\t26:ADV\t13:RAD\t13:WP\t26:SBV\t26:ADV\t26:ADV\t21:ATT\t19:RAD\t22:ATT\t18:POB\t25:LAD\t25:ATT\t22:COO\t2:COO\t26:VOB\t30:WP\t30:ATT\t33:ATT\t30:WP\t33:ATT\t27:VOB\t26:WP\t37:ATT\t37:ATT\t40:ATT\t40:ATT\t40:ATT\t42:SBV\t42:ADV\t26:COO\t42:COO\t26:WP\t53:ATT\t48:ATT\t46:RAD\t45:POB\t50:LAD\t48:COO\t52:ATT\t50:VOB\t64:ADV\t53:WP\t56:ATT\t64:SBV\t59:ADV\t59:ADV\t64:ADV\t61:ATT\t59:POB\t63:ADV\t64:ADV\t26:COO\t67:WP\t67:ATT\t64:VOB\t67:WP\t64:WP\t71:ADV\t64:COO\t74:WP\t74:ATT\t76:ATT\t74:WP\t71:VOB\t76:VOB\t77:CMP\t77:COO\t79:CMP\t2:WP\t2:COO\t82:CMP\t83:POB\t2:WP\t87:SBV\t2:COO\t90:SBV\t88:COO\t87:VOB\t90:VOB\t94:WP\t94:ATT\t99:ATT\t94:WP\t94:RAD\t99:ATT\t99:ATT\t91:VOB\t90:WP\t102:SBV\t90:COO\t102:DBL\t102:VOB\t107:WP\t107:ATT\t109:ADV\t107:WP\t104:VOB\t111:ATT\t112:ATT\t109:VOB\t2:WP\t118:ADV\t114:POB\t114:WP\t118:SBV\t2:COO\t118:RAD\t122:SBV\t120:COO\t134:ATT\t125:WP\t125:ATT\t132:ATT\t125:WP\t125:RAD\t129:ATT\t132:ATT\t131:SBV\t132:ATT\t122:VOB\t132:RAD\t118:VOB\t118:WP\t138:SBV\t138:ADV\t118:COO\t150:ATT\t141:ATT\t150:ATT\t150:ATT\t145:WP\t145:ATT\t148:ATT\t145:WP\t148:ATT\t142:VOB\t142:RAD\t138:VOB\t2:WP\t156:ADV\t152:POB\t152:WP\t156:SBV\t2:COO\t156:WP\t159:SBV\t156:VOB\t162:SBV\t162:ADV\t159:VOB\t162:VOB\t166:WP\t166:ATT\t169:ADV\t166:WP\t169:SBV\t163:VOB\t159:WP\t159:COO\t173:ATT\t171:DBL\t171:VOB\t174:VOB\t174:COO\t176:VOB\t159:WP\t184:ATT\t184:ATT\t184:ATT\t183:LAD\t181:COO\t159:COO\t2:WP\t190:ADV\t186:POB\t186:WP\t190:SBV\t2:COO\t190:WP\t194:ATT\t192:COO\t196:SBV\t196:ADV\t190:VOB\t209:ADV\t200:WP\t200:ATT\t208:ATT\t200:WP\t206:LAD\t206:ATT\t203:COO\t206:ATT\t207:ATT\t208:ATT\t197:POB\t196:VOB\t2:WP\t215:ADV\t211:POB\t211:WP\t215:ATT\t2:VOB\t215:WP\t215:VOB\t219:SBV\t217:VOB\t219:VOB\t223:WP\t223:ATT\t228:ATT\t223:WP\t223:RAD\t228:ATT\t228:ATT\t220:VOB\t217:WP\t217:COO\t230:VOB\t231:COO\t230:WP\t217:COO\t236:ATT\t237:ATT\t234:VOB\t2:WP\t241:ATT\t241:ATT\t244:SBV\t244:ADV\t244:SBV\t2:COO\t244:WP\t249:ADV\t248:ATT\t246:POB\t244:COO\t249:RAD\t252:ATT\t249:VOB\t2:WP\t255:WP\t269:ATT\t255:WP\t258:ATT\t255:COO\t258:WP\t255:WP\t255:WP\t264:ATT\t264:ATT\t255:COO\t267:WP\t267:ATT\t264:COO\t255:WP\t270:SBV\t2:COO\t274:ATT\t274:ATT\t274:ATT\t275:SBV\t279:SBV\t275:COO\t278:ATT\t275:VOB\t270:COO\t281:ATT\t282:ATT\t287:SBV\t284:ATT\t287:ADV\t287:ADV\t285:POB\t279:VOB\t296:ATT\t291:WP\t291:ATT\t294:ATT\t291:WP\t294:ATT\t288:VOB\t288:RAD\t287:VOB\t2:WP\t302:ADV\t298:POB\t298:WP\t302:SBV\t2:COO\t302:WP\t313:SBV\t313:ADV\t313:ADV\t309:WP\t309:ATT\t311:ATT\t309:WP\t312:ATT\t306:POB\t302:VOB\t313:VOB\t316:SBV\t314:VOB\t313:WP\t327:SBV\t327:ADV\t327:ADV\t320:POB\t325:ATT\t324:ATT\t325:ATT\t326:ATT\t321:VOB\t313:COO\t327:CMP\t2:WP\t334:ADV\t330:POB\t330:WP\t334:SBV\t2:COO\t334:WP\t337:ATT\t348:SBV\t348:ADV\t338:POB\t341:ATT\t342:ATT\t346:ATT\t346:ATT\t346:ATT\t346:ATT\t339:VOB\t338:WP\t334:COO\t354:ADV\t352:WP\t352:ATT\t354:ADV\t352:WP\t348:VOB\t365:ADV\t357:ATT\t358:SBV\t359:ATT\t362:ATT\t362:WP\t362:ATT\t355:POB\t362:WP\t365:ADV\t354:VOB\t2:WP\t371:ADV\t367:POB\t367:WP\t371:SBV\t2:COO\t371:RAD\t389:WP\t375:ATT\t389:ATT\t378:LAD\t378:ATT\t375:COO\t389:ATT\t381:ADV\t379:POB\t384:WP\t384:ATT\t386:ADV\t384:WP\t381:VOB\t386:RAD\t389:ATT\t396:ATT\t389:WP\t389:RAD\t393:ATT\t396:ATT\t395:SBV\t396:ATT\t398:ATT\t396:RAD\t371:VOB\t2:WP\t405:SBV\t405:ADV\t401:POB\t401:WP\t405:SBV\t2:COO\t405:WP\t408:SBV\t405:VOB\t411:WP\t411:ATT\t414:ADV\t411:WP\t414:SBV\t408:VOB\t420:ATT\t417:WP\t415:COO\t415:RAD\t420:ATT\t414:VOB\t408:WP\t423:ADV\t408:COO\t426:WP\t426:ATT\t428:ATT\t426:WP\t423:VOB\t438:ADV\t432:ATT\t432:ATT\t429:POB\t436:WP\t435:ATT\t436:FOB\t432:COO\t432:RAD\t428:VOB\t2:WP\t444:ADV\t440:POB\t440:WP\t444:SBV\t2:COO\t444:WP\t448:SBV\t448:ADV\t444:VOB\t448:POB\t452:WP\t452:ATT\t455:ATT\t452:WP\t455:ATT\t456:ADV\t449:COO\t456:VOB\t459:LAD\t457:COO\t456:WP\t456:COO\t463:ATT\t464:SBV\t461:VOB\t464:VOB\t2:WP\t471:ADV\t467:POB\t467:WP\t471:SBV\t2:COO\t471:WP\t478:ATT\t478:WP\t478:ATT\t477:ATT\t478:ATT\t482:SBV\t478:WP\t482:ADV\t480:POB\t471:VOB\t485:WP\t485:ATT\t487:ATT\t485:WP\t482:VOB\t489:ADV\t482:COO\t482:WP\t493:SBV\t493:ADV\t482:COO\t495:ATT\t493:VOB\t2:WP\t501:ADV\t497:POB\t497:WP\t501:SBV\t2:COO\t501:WP\t523:SBV\t523:ADV\t523:ADV\t505:POB\t509:ATT\t507:COO\t510:ATT\t511:ADV\t506:VOB\t514:WP\t514:ATT\t516:ADV\t514:WP\t511:VOB\t516:COO\t517:VOB\t511:COO\t519:VOB\t505:WP\t523:ADV\t501:VOB\t526:WP\t526:ATT\t529:ATT\t526:WP\t529:ATT\t530:ADV\t523:VOB\t523:WP\t523:COO\t534:ATT\t532:VOB\t523:WP\t537:ATT\t540:SBV\t540:ADV\t540:SBV\t523:COO\t523:WP\t545:ADV\t544:ATT\t542:POB\t523:COO\t545:RAD\t548:ATT\t545:VOB\t501:WP\t551:ATT\t558:SBV\t558:ADV\t555:ATT\t555:ATT\t556:ATT\t557:ATT\t552:POB\t501:COO\t558:VOB\t561:ATT\t558:VOB\t561:CMP\t568:ATT\t563:RAD\t567:ATT\t567:ATT\t568:ATT\t569:ATT\t562:POB\t558:WP\t572:SBV\t575:ATT\t574:ATT\t572:VOB\t578:ADV\t577:ADV\t578:ADV\t558:COO\t578:WP\t585:SBV\t583:WP\t583:ATT\t585:SBV\t583:WP\t578:VOB\t589:ATT\t586:RAD\t589:ATT\t585:VOB\t585:WP\t593:SBV\t591:RAD\t585:COO\t595:ADV\t600:ATT\t595:COO\t596:COO\t596:RAD\t600:ATT\t593:VOB\t593:WP\t593:COO\t604:ATT\t605:ATT\t602:VOB\t602:WP\t608:ADV\t602:COO\t612:SBV\t612:ADV\t612:ADV\t608:VOB\t612:VOB\t608:WP\t616:ADV\t617:ADV\t608:COO\t617:CMP\t617:VOB\t617:RAD\t617:COO\t621:VOB\t617:WP\t625:ADV\t617:COO\t625:VOB\t626:DBL\t635:ATT\t628:RAD\t631:ATT\t635:ATT\t631:RAD\t635:ATT\t635:WP\t626:VOB\t635:WP\t625:WP\t625:COO\t642:SBV\t642:ADV\t640:POB\t649:ATT\t642:VOB\t645:WP\t646:ADV\t642:COO\t646:RAD\t649:ATT\t638:VOB\t2:WP\t658:SBV\t658:ADV\t658:ADV\t655:ATT\t653:POB\t658:ADV\t656:POB\t2:COO\t660:ATT\t668:ATT\t663:WP\t663:ATT\t668:ATT\t663:WP\t667:ATT\t667:ATT\t668:ATT\t658:VOB\t658:WP\t671:ATT\t672:ADV\t658:COO\t672:VOB\t672:WP\t676:ADV\t684:ADV\t678:ATT\t676:POB\t676:WP\t684:SBV\t684:ADV\t684:ADV\t684:ADV\t658:COO\t687:WP\t687:ATT\t689:ATT\t687:WP\t684:VOB\t684:WP\t684:COO\t694:WP\t694:ATT\t696:ATT\t694:WP\t701:ATT\t700:LAD\t700:ATT\t700:ATT\t696:COO\t703:ATT\t701:RAD\t691:VOB\t684:WP\t707:ADV\t707:ADV\t684:COO\t707:COO\t721:SBV\t721:ADV\t713:WP\t713:ATT\t715:ATT\t713:WP\t710:POB\t715:RAD\t718:ATT\t710:POB\t710:WP\t721:ADV\t708:VOB\t721:WP\t728:SBV\t726:WP\t726:ATT\t723:VOB\t726:WP\t721:VOB\t730:ATT\t733:ATT\t733:ATT\t733:ATT\t738:ATT\t733:RAD\t736:ADV\t737:ATT\t738:ATT\t728:VOB\t2:WP\n"
     ]
    }
   ],
   "source": [
    "\n",
    "par_model_path = os.path.join(LTP_DATA_DIR, 'parser.model')  # 依存句法分析模型路径，模型名称为`parser.model`\n",
    "\n",
    "parser = Parser() # 初始化实例\n",
    "parser.load(par_model_path)  # 加载模型\n",
    "\n",
    "arcs = parser.parse(words, postags)  # 句法分析\n",
    "\n",
    "print(\"\\t\".join(\"%d:%s\" % (arc.head, arc.relation) for arc in arcs))\n",
    "parser.release()  # 释放模型"
   ]
  },
  {
   "cell_type": "code",
   "execution_count": 132,
   "metadata": {},
   "outputs": [
    {
     "name": "stdout",
     "output_type": "stream",
     "text": [
      "['强调']\n",
      "['表示']\n",
      "['强调']\n",
      "['表示']\n",
      "['强调']\n",
      "['表示']\n",
      "['强调']\n",
      "['指出']\n",
      "['强调']\n"
     ]
    },
    {
     "data": {
      "text/plain": [
       "defaultdict(dict,\n",
       "            {'习近平': {'强调': [86, 189, 333, 443, 500],\n",
       "              '表示': [155, 301, 404],\n",
       "              '指出': [470]}})"
      ]
     },
     "execution_count": 132,
     "metadata": {},
     "output_type": "execute_result"
    }
   ],
   "source": [
    "arc_relate = defaultdict(dict)\n",
    "\n",
    "for i, arc in enumerate(arcs):\n",
    "    if arc.relation == \"SBV\":\n",
    "#         print(words[arc.head-1],netags[i],words[i])\n",
    "        if words[arc.head-1] in relate and netags[i] == 'S-Nh' :\n",
    "#             print(words[arc.head-1])\n",
    "                 \n",
    "            print([words[arc.head-1]])\n",
    "        \n",
    "            if words[arc.head-1] not in arc_relate[words[i]]:\n",
    "                arc_relate[words[i]][words[arc.head-1]] = []\n",
    "                arc_relate[words[i]][words[arc.head-1]].append(arc.head-1)\n",
    "                continue\n",
    "            arc_relate[words[i]][words[arc.head-1]] += [arc.head-1]\n",
    "#             arc_relate[words[i]] += [words[arc.head-1]]\n",
    "arc_relate\n"
   ]
  },
  {
   "cell_type": "code",
   "execution_count": 160,
   "metadata": {},
   "outputs": [
    {
     "name": "stdout",
     "output_type": "stream",
     "text": [
      "['强调']\n",
      "['表示']\n",
      "['强调']\n",
      "['表示']\n",
      "['强调']\n",
      "['表示']\n",
      "['强调']\n",
      "['指出']\n",
      "['强调']\n"
     ]
    },
    {
     "data": {
      "text/plain": [
       "defaultdict(dict,\n",
       "            {'习近平': {'强调': ['中阿是共建“一带一路”的天然合作伙伴，中方视阿联酋为“一带一路”建设重要支点国家\\n',\n",
       "               '，中南双方要加强在“一带一路”和中非合作论坛框架内合作\\n',\n",
       "               '，中方视文莱为建设21世纪海上丝绸之路重要合作伙伴，愿将“一带一路”倡议同文莱经济多元化战略“2035宏愿”相对接\\n',\n",
       "               '，双方要在共建“一带一路”框架内加强沟通和合作，对接两国发展规划\\n',\n",
       "               '，双方要以签署中葡政府间共建“一带一路”合作谅解备忘录为契机，全面加强“一带一路”框架内合作，促进互联互通。\\n\\n习近平今年外访收官，向国际社会传达了什么讯息？习近平在APEC工商领导人峰会上发表主旨演讲\\n\\n在今年的APEC工商领导人峰会上，习近平发表主旨演讲时还郑重表示，共建“一带一路”是开放的合作平台，秉持的是共商共建共享的基本原则，没有地缘政治目的，不针对谁也不排除谁，不会关起门来搞小圈子，不是有人说的这样那样的所谓“陷阱”，而是中国同世界共享机遇、共谋发展的阳光大道\\n'],\n",
       "              '表示': ['，中方欢迎卢方积极参与共建“一带一路”国际合作，鼓励中国企业赴卢旺达投资兴业，助力卢旺达工业化和现代化进程\\n',\n",
       "               '，双方要在“一带一路”框架内加强发展战略对接，争取尽早就启动双边自由贸易协定谈判达成一致\\n',\n",
       "               '，中西开展“一带一路”合作具有历史、地理等多重优势，要加强“一带一路”倡议同西班牙亚洲战略、地中海走廊建设等对接\\n'],\n",
       "              '指出': ['，巴方“2030年国家物流战略”同中方共建“一带一路”倡议高度契合，双方要加强战略对接\\n']}})"
      ]
     },
     "execution_count": 160,
     "metadata": {},
     "output_type": "execute_result"
    }
   ],
   "source": [
    "arc_relate = defaultdict(dict)\n",
    "\n",
    "for i, arc in enumerate(arcs):\n",
    "    if arc.relation == \"SBV\":\n",
    "#         print(words[arc.head-1],netags[i],words[i])\n",
    "        if words[arc.head-1] in relate and netags[i] == 'S-Nh' :\n",
    "#             print(words[arc.head-1])\n",
    "                 \n",
    "            print([words[arc.head-1]])\n",
    "        \n",
    "            if words[arc.head-1] not in arc_relate[words[i]]:\n",
    "                arc_relate[words[i]][words[arc.head-1]] = []\n",
    "            sentence = find_sentence(arc.head-1,words)\n",
    "\n",
    "            arc_relate[words[i]][words[arc.head-1]].append(sentence+\"\\n\")\n",
    "#             arc_relate[words[i]] += [words[arc.head-1]]\n",
    "arc_relate\n"
   ]
  },
  {
   "cell_type": "code",
   "execution_count": 145,
   "metadata": {},
   "outputs": [],
   "source": [
    "def find_sentence(pos, words):\n",
    "           \n",
    "    for i in range(pos, len(words)):\n",
    "        if words[i] ==\"。\":\n",
    "            return \"\".join(words[pos+1 : i])\n",
    "    return \"null\"\n",
    "        "
   ]
  },
  {
   "cell_type": "code",
   "execution_count": 146,
   "metadata": {},
   "outputs": [
    {
     "data": {
      "text/plain": [
       "'“一带一路”倡议提出五周年'"
      ]
     },
     "execution_count": 146,
     "metadata": {},
     "output_type": "execute_result"
    }
   ],
   "source": [
    "find_sentence(1,words)"
   ]
  },
  {
   "cell_type": "code",
   "execution_count": 133,
   "metadata": {},
   "outputs": [
    {
     "data": {
      "text/plain": [
       "[5, 6, 7, 8, 9]"
      ]
     },
     "execution_count": 133,
     "metadata": {},
     "output_type": "execute_result"
    }
   ],
   "source": [
    "[i for i in range(5,10)]"
   ]
  },
  {
   "cell_type": "code",
   "execution_count": 80,
   "metadata": {},
   "outputs": [],
   "source": [
    "arc_relate['习近平'] += ['强']"
   ]
  },
  {
   "cell_type": "code",
   "execution_count": 81,
   "metadata": {},
   "outputs": [
    {
     "data": {
      "text/plain": [
       "defaultdict(list, {'习近平': ['强调', '强']})"
      ]
     },
     "execution_count": 81,
     "metadata": {},
     "output_type": "execute_result"
    }
   ],
   "source": [
    "arc_relate"
   ]
  },
  {
   "cell_type": "code",
   "execution_count": 16,
   "metadata": {},
   "outputs": [],
   "source": [
    "model = Word2Vec.load('./model/news.model')"
   ]
  },
  {
   "cell_type": "code",
   "execution_count": 49,
   "metadata": {},
   "outputs": [],
   "source": [
    "\n",
    "def search_words(serch_word, model, max_size = 800):\n",
    "    visitied = defaultdict(int)\n",
    "    unvisitied = [serch_word]\n",
    "    \n",
    "    while unvisitied and len(visitied) <= max_size:\n",
    "\n",
    "        word = unvisitied.pop(0)\n",
    "\n",
    "        successors = [w for w, p in model.most_similar(word, topn=20)]\n",
    "        \n",
    "        unvisitied += successors\n",
    "        \n",
    "        visitied[word] += 1  \n",
    "        # if we need more sophsiticated, we need change the value as the function(layer, similarity)\n",
    "        \n",
    "    return visitied"
   ]
  },
  {
   "cell_type": "code",
   "execution_count": 50,
   "metadata": {},
   "outputs": [
    {
     "name": "stderr",
     "output_type": "stream",
     "text": [
      "D:\\ProgramData\\Anaconda3\\envs\\NLP\\lib\\site-packages\\ipykernel_launcher.py:9: DeprecationWarning: Call to deprecated `most_similar` (Method will be removed in 4.0.0, use self.wv.most_similar() instead).\n",
      "  if __name__ == '__main__':\n"
     ]
    }
   ],
   "source": [
    "relate_word = search_words('说',model)"
   ]
  },
  {
   "cell_type": "code",
   "execution_count": 51,
   "metadata": {},
   "outputs": [],
   "source": [
    "sorted_realte = sorted(relate_word.items(), key=lambda x: x[1], reverse=True)[:100]"
   ]
  },
  {
   "cell_type": "code",
   "execution_count": 52,
   "metadata": {},
   "outputs": [],
   "source": [
    "relate =[word[0] for word in sorted_realte]"
   ]
  },
  {
   "cell_type": "code",
   "execution_count": 53,
   "metadata": {},
   "outputs": [
    {
     "data": {
      "text/plain": [
       "False"
      ]
     },
     "execution_count": 53,
     "metadata": {},
     "output_type": "execute_result"
    }
   ],
   "source": [
    "words[arc.head+1] in relate"
   ]
  },
  {
   "cell_type": "code",
   "execution_count": 54,
   "metadata": {},
   "outputs": [
    {
     "data": {
      "text/plain": [
       "['表示',\n",
       " '认为',\n",
       " '指出',\n",
       " '说',\n",
       " '透露',\n",
       " '强调',\n",
       " '提到',\n",
       " '告诉',\n",
       " '称',\n",
       " '坦言',\n",
       " '建议',\n",
       " '看来',\n",
       " '呼吁',\n",
       " '写道',\n",
       " '重申',\n",
       " '说法',\n",
       " '称赞',\n",
       " '声称',\n",
       " '回答',\n",
       " '指责',\n",
       " '直言',\n",
       " '证实',\n",
       " '感叹',\n",
       " '否认',\n",
       " '提及',\n",
       " '承认',\n",
       " '批评',\n",
       " '表态',\n",
       " '说道',\n",
       " '相信',\n",
       " '提出',\n",
       " '不过',\n",
       " '承诺',\n",
       " '介绍',\n",
       " '深知',\n",
       " '暗示',\n",
       " '担心',\n",
       " '提醒',\n",
       " '敦促',\n",
       " '感到',\n",
       " '表明',\n",
       " '提议',\n",
       " '主张',\n",
       " '谈及',\n",
       " '觉得',\n",
       " '见到',\n",
       " '但是',\n",
       " '援引',\n",
       " '激动',\n",
       " '反对',\n",
       " '问',\n",
       " '记得',\n",
       " '谈论',\n",
       " '而言',\n",
       " '询问',\n",
       " '笑言',\n",
       " '当然',\n",
       " '宗伟',\n",
       " '猜测',\n",
       " '推测',\n",
       " '坦承',\n",
       " '谴责',\n",
       " '穆序尧',\n",
       " '提问',\n",
       " '认真',\n",
       " '接片',\n",
       " '因为',\n",
       " '回应',\n",
       " '预测',\n",
       " '说明',\n",
       " '怀疑',\n",
       " '快评',\n",
       " '确认',\n",
       " '想起',\n",
       " '倍感',\n",
       " '解答',\n",
       " '修改',\n",
       " '不禁',\n",
       " '卷入',\n",
       " '或许',\n",
       " '举动',\n",
       " '指控',\n",
       " '说服',\n",
       " '出面',\n",
       " '似乎',\n",
       " '看好',\n",
       " '手记',\n",
       " '刘彬',\n",
       " '立法',\n",
       " '注',\n",
       " '眼中',\n",
       " '印证',\n",
       " '学棋',\n",
       " '坚信',\n",
       " '发问',\n",
       " '废除',\n",
       " '宣布',\n",
       " '贯彻',\n",
       " '关键词',\n",
       " '通讯']"
      ]
     },
     "execution_count": 54,
     "metadata": {},
     "output_type": "execute_result"
    }
   ],
   "source": [
    "relate"
   ]
  },
  {
   "cell_type": "code",
   "execution_count": 175,
   "metadata": {},
   "outputs": [
    {
     "name": "stdout",
     "output_type": "stream",
     "text": [
      "习近平\n",
      "['你好', '没事']\n",
      "习平\n",
      "['你好', '没事']\n"
     ]
    }
   ],
   "source": [
    "n = {'习近平': {'说': ['你好', '没事']},\n",
    "     '习平': {'骂': ['你好', '没事']\n",
    "            }}\n",
    "for i in n:\n",
    "    for j in n[i]:\n",
    "        print(n[i][j])\n",
    "\n"
   ]
  },
  {
   "cell_type": "code",
   "execution_count": null,
   "metadata": {},
   "outputs": [],
   "source": []
  }
 ],
 "metadata": {
  "kernelspec": {
   "display_name": "NLP",
   "language": "python",
   "name": "nlp"
  },
  "language_info": {
   "codemirror_mode": {
    "name": "ipython",
    "version": 3
   },
   "file_extension": ".py",
   "mimetype": "text/x-python",
   "name": "python",
   "nbconvert_exporter": "python",
   "pygments_lexer": "ipython3",
   "version": "3.6.6"
  }
 },
 "nbformat": 4,
 "nbformat_minor": 2
}
